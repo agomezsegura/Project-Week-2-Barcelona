{
 "cells": [
  {
   "cell_type": "markdown",
   "metadata": {},
   "source": [
    "# Air Quality Barcelona"
   ]
  },
  {
   "cell_type": "code",
   "execution_count": 1,
   "metadata": {},
   "outputs": [],
   "source": [
    "import pandas as pd"
   ]
  },
  {
   "cell_type": "code",
   "execution_count": 2,
   "metadata": {},
   "outputs": [],
   "source": [
    "def structure_dataset(csv_name):\n",
    "    df = pd.read_csv('data/'+csv_name)\n",
    "    df.drop(['CODI_PROVINCIA','PROVINCIA','CODI_MUNICIPI','MUNICIPI'], axis = 1, inplace = True)\n",
    "    df.rename(columns = {'CODI_CONTAMINANT':'POLLUTANT_CODE','ESTACIO':'STATION','ANY':'YEAR','MES':'MONTH','DIA':'DAY'}, inplace = True)\n",
    "    for num in [\"%.2d\" % i for i in range(1,25)]:\n",
    "        df.drop(['V'+num], axis = 1, inplace = True)\n",
    "        df['H'+num] = pd.to_numeric(df['H'+num],errors = 'coerce')\n",
    "    new_df = pd.DataFrame({'STATION':[df['STATION'][int(i/24)] for i in range(df.shape[0]*24)],\n",
    "                      'POLLUTANT_CODE':[df['POLLUTANT_CODE'][int(i/24)] for i in range(df.shape[0]*24)],\n",
    "                      'YEAR':[df['YEAR'][int(i/24)] for i in range(df.shape[0]*24)],\n",
    "                      'MONTH':[df['MONTH'][int(i/24)] for i in range(df.shape[0]*24)],\n",
    "                      'DAY':[df['DAY'][int(i/24)] for i in range(df.shape[0]*24)],\n",
    "                      'HOUR':[j for i in range(df.shape[0]) for j in range(1,25)],\n",
    "                      'VALUE':[df['H'+num][row] for row in range(df.shape[0]) for num in [\"%.2d\" % i for i in range(1,25)]]\n",
    "                      })\n",
    "    return new_df"
   ]
  },
  {
   "cell_type": "code",
   "execution_count": 3,
   "metadata": {},
   "outputs": [],
   "source": [
    "jan2020 = structure_dataset('2020_01_Gener_qualitat_aire_BCN.csv')\n",
    "feb2020 = structure_dataset('2020_02_Febrer_qualitat_aire_BCN.csv')\n",
    "march2020 = structure_dataset('2020_03_Marc_qualitat_aire_BCN.csv')\n",
    "april2020 = structure_dataset('2020_04_Abril_qualitat_aire_BCN.csv')\n",
    "may2020 = structure_dataset('2020_05_Maig_qualitat_aire_BCN.csv')\n",
    "june2020 = structure_dataset('2020_06_Juny_qualitat_aire_BCN.csv')\n",
    "july2020 = structure_dataset('2020_07_Juliol_qualitat_aire_BCN.csv')\n",
    "aug2020 = structure_dataset('2020_08_Agost_qualitat_aire_BCN.csv')\n",
    "sep2020 = structure_dataset('2020_09_Setembre_qualitat_aire_BCN.csv')\n",
    "\n",
    "may2019 = structure_dataset('2019_05_Maig_qualitat_aire_BCN.csv')"
   ]
  },
  {
   "cell_type": "code",
   "execution_count": 4,
   "metadata": {
    "scrolled": false
   },
   "outputs": [],
   "source": [
    "stations = pd.read_csv('data/Qualitat_Aire_Estacions.csv')\n",
    "pollutants = pd.read_csv('data/Qualitat_Aire_Contaminants.csv')"
   ]
  },
  {
   "cell_type": "code",
   "execution_count": 5,
   "metadata": {},
   "outputs": [],
   "source": [
    "jan_sep_2020 = pd.concat([jan2020,feb2020,march2020,april2020,may2020,june2020,july2020,aug2020,sep2020],ignore_index = True)"
   ]
  },
  {
   "cell_type": "code",
   "execution_count": 6,
   "metadata": {},
   "outputs": [],
   "source": [
    "stations.drop(['Codi_Contaminant'], axis = 1, inplace = True)\n",
    "stations.drop_duplicates(inplace = True)\n",
    "jan_sep_2020 = jan_sep_2020.merge(stations[['Estacio','Nom_districte']], how = 'left',left_on = 'STATION',right_on = 'Estacio')\n",
    "jan_sep_2020.drop(['Estacio'], axis = 1, inplace = True)\n",
    "jan_sep_2020.rename(columns = {'Nom_districte':'DISTRICT_NAME'}, inplace = True)"
   ]
  },
  {
   "cell_type": "code",
   "execution_count": 7,
   "metadata": {},
   "outputs": [],
   "source": [
    "jan_sep_2020 = jan_sep_2020.merge(pollutants, how = 'left',left_on = 'POLLUTANT_CODE',right_on = 'Codi_Contaminant')\n",
    "jan_sep_2020.drop(['Codi_Contaminant'], axis = 1, inplace = True)\n",
    "jan_sep_2020.rename(columns = {'Desc_Contaminant':'POLLUTANT_DESCRIPTION','Unitats':'UNITS'}, inplace = True)"
   ]
  },
  {
   "cell_type": "code",
   "execution_count": 8,
   "metadata": {},
   "outputs": [],
   "source": [
    "jan_sep_2020 = jan_sep_2020[['YEAR','MONTH','DAY','HOUR','STATION','DISTRICT_NAME','POLLUTANT_CODE','POLLUTANT_DESCRIPTION','UNITS','VALUE']]"
   ]
  },
  {
   "cell_type": "markdown",
   "metadata": {},
   "source": [
    "## Air Quality COVID's situation"
   ]
  },
  {
   "cell_type": "code",
   "execution_count": 9,
   "metadata": {},
   "outputs": [],
   "source": [
    "may = pd.concat([may2019,may2020],ignore_index = True)\n",
    "may = may.merge(pollutants, how = 'left',left_on = 'POLLUTANT_CODE',right_on = 'Codi_Contaminant')\n",
    "may.drop(['Codi_Contaminant'], axis = 1, inplace = True)\n",
    "may.rename(columns = {'Desc_Contaminant':'POLLUTANT_DESCRIPTION','Unitats':'UNITS'}, inplace = True)"
   ]
  },
  {
   "cell_type": "code",
   "execution_count": 10,
   "metadata": {},
   "outputs": [
    {
     "data": {
      "text/plain": [
       "POLLUTANT_DESCRIPTION  YEAR  HOUR\n",
       "CO                     2019  1       1.1\n",
       "                             2       0.6\n",
       "                             3       0.7\n",
       "                             4       0.4\n",
       "                             5       0.4\n",
       "                                    ... \n",
       "SO2                    2020  20      5.0\n",
       "                             21      5.0\n",
       "                             22      5.0\n",
       "                             23      5.0\n",
       "                             24      4.0\n",
       "Name: VALUE, Length: 336, dtype: float64"
      ]
     },
     "execution_count": 10,
     "metadata": {},
     "output_type": "execute_result"
    }
   ],
   "source": [
    "may.groupby(['POLLUTANT_DESCRIPTION','YEAR','HOUR']).max()['VALUE']"
   ]
  },
  {
   "cell_type": "markdown",
   "metadata": {},
   "source": [
    "## Air Quality by neighbourhood"
   ]
  },
  {
   "cell_type": "code",
   "execution_count": 11,
   "metadata": {},
   "outputs": [
    {
     "data": {
      "text/plain": [
       "POLLUTANT_DESCRIPTION  DISTRICT_NAME \n",
       "CO                     Eixample           0.259083\n",
       "                       Gracia             0.318769\n",
       "                       Horta-Guinardo     0.276345\n",
       "                       Les Corts          0.284462\n",
       "NO                     Ciutat Vella       7.949243\n",
       "                       Eixample          17.275962\n",
       "                       Gracia            11.305618\n",
       "                       Horta-Guinardo     7.169296\n",
       "                       Les Corts          5.004723\n",
       "                       Sant Marti         9.522316\n",
       "                       Sants-Montjuic     6.026637\n",
       "NO2                    Ciutat Vella      22.168063\n",
       "                       Eixample          33.317340\n",
       "                       Gracia            30.399679\n",
       "                       Horta-Guinardo    21.205815\n",
       "                       Les Corts         17.066792\n",
       "                       Sant Marti        26.692755\n",
       "                       Sants-Montjuic    21.951220\n",
       "NOx                    Ciutat Vella      33.849017\n",
       "                       Eixample          59.505072\n",
       "                       Gracia            47.264205\n",
       "                       Horta-Guinardo    31.712640\n",
       "                       Les Corts         23.226176\n",
       "                       Sant Marti        40.936934\n",
       "                       Sants-Montjuic    30.850128\n",
       "O3                     Ciutat Vella      49.019513\n",
       "                       Eixample          44.617161\n",
       "                       Gracia            50.114694\n",
       "                       Horta-Guinardo    58.903537\n",
       "                       Les Corts         59.825008\n",
       "PM10                   Eixample          23.644434\n",
       "                       Gracia            21.873574\n",
       "                       Horta-Guinardo    15.984504\n",
       "                       Les Corts         16.941468\n",
       "                       Sant Marti        24.091158\n",
       "SO2                    Eixample           1.309305\n",
       "                       Gracia             2.091640\n",
       "                       Horta-Guinardo     1.163747\n",
       "                       Les Corts          1.142378\n",
       "Name: VALUE, dtype: float64"
      ]
     },
     "execution_count": 11,
     "metadata": {},
     "output_type": "execute_result"
    }
   ],
   "source": [
    "jan_sep_2020.groupby(['POLLUTANT_DESCRIPTION','DISTRICT_NAME']).mean()['VALUE']"
   ]
  },
  {
   "cell_type": "markdown",
   "metadata": {},
   "source": [
    "## Air Quality by day"
   ]
  },
  {
   "cell_type": "code",
   "execution_count": 12,
   "metadata": {},
   "outputs": [],
   "source": [
    "date_jan_sep_2020 = jan_sep_2020.copy()\n",
    "date_jan_sep_2020['DATE'] = [str(jan_sep_2020['DAY'][i])+'/'+str(jan_sep_2020['MONTH'][i])+'/'+str(jan_sep_2020['YEAR'][i]) for i in range(jan_sep_2020.shape[0])]\n",
    "date_jan_sep_2020['DATE'] = pd.to_datetime(date_jan_sep_2020['DATE'])\n",
    "date_jan_sep_2020['DAY_WEEK'] = [date_jan_sep_2020['DATE'][i].weekday() for i in range(date_jan_sep_2020.shape[0])]\n",
    "date_jan_sep_2020.drop(['YEAR','MONTH','DAY'],axis=1,inplace=True)"
   ]
  },
  {
   "cell_type": "code",
   "execution_count": 13,
   "metadata": {},
   "outputs": [
    {
     "data": {
      "text/plain": [
       "POLLUTANT_DESCRIPTION  DAY_WEEK\n",
       "CO                     0            0.273906\n",
       "                       1            0.290930\n",
       "                       2            0.302486\n",
       "                       3            0.300582\n",
       "                       4            0.307892\n",
       "                       5            0.259771\n",
       "                       6            0.258017\n",
       "NO                     0            7.470194\n",
       "                       1            8.217404\n",
       "                       2            9.321800\n",
       "                       3           10.758750\n",
       "                       4           10.467450\n",
       "                       5            5.776205\n",
       "                       6            5.724605\n",
       "NO2                    0           21.992189\n",
       "                       1           23.378157\n",
       "                       2           24.143381\n",
       "                       3           26.392222\n",
       "                       4           25.648759\n",
       "                       5           18.767533\n",
       "                       6           18.227019\n",
       "NOx                    0           32.775772\n",
       "                       1           35.438312\n",
       "                       2           37.811318\n",
       "                       3           42.310139\n",
       "                       4           41.133826\n",
       "                       5           26.985542\n",
       "                       6           26.305029\n",
       "O3                     0           57.561527\n",
       "                       1           57.506813\n",
       "                       2           57.159776\n",
       "                       3           54.022324\n",
       "                       4           56.002853\n",
       "                       5           59.793055\n",
       "                       6           58.186286\n",
       "PM10                   0           18.353280\n",
       "                       1           19.204026\n",
       "                       2           20.149073\n",
       "                       3           20.817497\n",
       "                       4           22.387297\n",
       "                       5           19.421516\n",
       "                       6           16.897318\n",
       "SO2                    0            1.486531\n",
       "                       1            1.429557\n",
       "                       2            1.422877\n",
       "                       3            1.484865\n",
       "                       4            1.453993\n",
       "                       5            1.359833\n",
       "                       6            1.364173\n",
       "Name: VALUE, dtype: float64"
      ]
     },
     "execution_count": 13,
     "metadata": {},
     "output_type": "execute_result"
    }
   ],
   "source": [
    "date_jan_sep_2020.groupby(['POLLUTANT_DESCRIPTION','DAY_WEEK']).mean()['VALUE']"
   ]
  }
 ],
 "metadata": {
  "kernelspec": {
   "display_name": "Python 3",
   "language": "python",
   "name": "python3"
  },
  "language_info": {
   "codemirror_mode": {
    "name": "ipython",
    "version": 3
   },
   "file_extension": ".py",
   "mimetype": "text/x-python",
   "name": "python",
   "nbconvert_exporter": "python",
   "pygments_lexer": "ipython3",
   "version": "3.8.3"
  }
 },
 "nbformat": 4,
 "nbformat_minor": 4
}
